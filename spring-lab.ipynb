{
 "cells": [
  {
   "cell_type": "markdown",
   "metadata": {},
   "source": [
    "### Import python modules ###"
   ]
  },
  {
   "cell_type": "code",
   "execution_count": 1,
   "metadata": {
    "collapsed": true
   },
   "outputs": [],
   "source": [
    "import numpy as np\n",
    "from matplotlib import pyplot as plt\n",
    "%matplotlib inline"
   ]
  },
  {
   "cell_type": "markdown",
   "metadata": {},
   "source": [
    "## Part 1: Hooke's Law ##"
   ]
  },
  {
   "cell_type": "markdown",
   "metadata": {},
   "source": [
    "### Spring 1 Measurements ###\n"
   ]
  },
  {
   "cell_type": "code",
   "execution_count": 3,
   "metadata": {
    "collapsed": true
   },
   "outputs": [],
   "source": [
    "length1_unstretched = .2 # units of m\n",
    "force1 = np.array([1,2],'f') # newtons\n",
    "length1 = np.array([3,4],'f') # m\n",
    "dlength1 = length1 - length1_unstretched"
   ]
  },
  {
   "cell_type": "markdown",
   "metadata": {},
   "source": [
    "### Spring 2 Measurements###\n"
   ]
  },
  {
   "cell_type": "code",
   "execution_count": null,
   "metadata": {
    "collapsed": true
   },
   "outputs": [],
   "source": [
    "length2_unstretched = .2 # units of m\n",
    "force2 = np.array([1,2],'f') # newtons\n",
    "length2 = np.array([3,4],'f') # m\n",
    "dlength2 = length2 - length2_unstretched"
   ]
  },
  {
   "cell_type": "markdown",
   "metadata": {},
   "source": [
    "### Spring 3 Measurements ###\n"
   ]
  },
  {
   "cell_type": "code",
   "execution_count": null,
   "metadata": {
    "collapsed": true
   },
   "outputs": [],
   "source": [
    "length3_unstretched = .2 # units of m\n",
    "force3 = np.array([1,2],'f') # newtons\n",
    "length3 = np.array([3,4],'f') # m\n",
    "dlength3 = length3 - length3_unstretched"
   ]
  },
  {
   "cell_type": "markdown",
   "metadata": {},
   "source": [
    "### Plot data and fit lines ###"
   ]
  },
  {
   "cell_type": "code",
   "execution_count": null,
   "metadata": {
    "collapsed": true
   },
   "outputs": [],
   "source": [
    "plt.figure()\n",
    "plt.plot(dlength1,force1,'bo',label='Spring 1')\n",
    "plt.plot(dlength2,force2,'ro',label='Spring 2')\n",
    "plt.plot(dlength3,force3,'go',label='Spring 3')\n",
    "\n",
    "# now you fit the lines..."
   ]
  },
  {
   "cell_type": "markdown",
   "metadata": {},
   "source": [
    "### Analysis ###\n",
    "\n",
    "Edit this cell to:\n",
    "\n",
    "* Summarize what you did and what you found.  \n",
    "* State the general relationship between force and displacement for a spring.  \n",
    "* Define the spring constant, and report the values you measured for springs 1-3.\n",
    "* Evaluate your results: do they make sense, was anything odd?"
   ]
  },
  {
   "cell_type": "markdown",
   "metadata": {},
   "source": [
    "## Part 2: Energy Stored in a Spring ##\n",
    "\n",
    "Using the instructions given in the lab handout, calculate the energy stored in each spring."
   ]
  },
  {
   "cell_type": "code",
   "execution_count": 4,
   "metadata": {
    "collapsed": true
   },
   "outputs": [],
   "source": [
    "# calculate the energy stored in each spring"
   ]
  },
  {
   "cell_type": "markdown",
   "metadata": {},
   "source": [
    "### Summary ###\n",
    " \n",
    "In this cell:\n",
    "\n",
    "* Describe how energy stored in a spring is found from a graph of forces vs displacement.\n",
    "* Report the energy stored in each spring.  \n",
    "* Calculate the integral of $\\int F_{spring}(x) dx$, assuming $F_{spring}(x) = kx$.\n",
    "* Compare the value to found from integration to your expression for the integral and your v the spring constants from Part 1."
   ]
  },
  {
   "cell_type": "code",
   "execution_count": null,
   "metadata": {
    "collapsed": true
   },
   "outputs": [],
   "source": []
  }
 ],
 "metadata": {
  "kernelspec": {
   "display_name": "Python [default]",
   "language": "python",
   "name": "python2"
  },
  "language_info": {
   "codemirror_mode": {
    "name": "ipython",
    "version": 2
   },
   "file_extension": ".py",
   "mimetype": "text/x-python",
   "name": "python",
   "nbconvert_exporter": "python",
   "pygments_lexer": "ipython2",
   "version": "2.7.13"
  }
 },
 "nbformat": 4,
 "nbformat_minor": 1
}
